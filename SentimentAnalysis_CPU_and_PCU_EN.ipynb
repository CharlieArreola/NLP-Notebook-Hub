{
 "cells": [
  {
   "attachments": {},
   "cell_type": "markdown",
   "metadata": {},
   "source": [
    "# Sentiment Analysis Notebook: Boosting Performance with GPU\n",
    "## Introduction\n",
    "In this notebook, we will be using different techniques of natural language processing (NLP) and AI to perform sentiment analysis on a dataset of tweets. We'll be using the Hugging Face library and the pre-trained cardiffnlp/twitter-xlm-roberta-base-sentiment Latest model for our analysis.\n",
    "\n",
    "The purpose of this notebook is to showcase the benefits of using GPU for sentiment analysis tasks. With the help of GPU, we'll be able to process large datasets faster and improve the overall performance of our model.\n",
    "\n",
    "In addition to the technical aspects of the notebook, we'll also discuss some general concepts about sentiment analysis, including what it is, why it's important, and how it works.\n",
    "\n",
    "So, let's get started and explore the exciting world of sentiment analysis!"
   ]
  },
  {
   "attachments": {},
   "cell_type": "markdown",
   "metadata": {},
   "source": [
    "## Libraries and models used\n",
    "\n",
    "In this notebook, we will be using different libraries and models to perform sentiment analysis on a Twitter dataset. The main libraries used in this notebook are:\n",
    "\n",
    "- Hugging Face Transformers: A library that provides easy-to-use interfaces to over 50 transformer-based models, including BERT, RoBERTa, and more. We will use this library to load a pre-trained sentiment analysis model.\n",
    "- NLTK: A library that provides tools to work with human language data, including tokenization, lemmatization, and more. We will use this library to extract nouns from the tweets.\n",
    "- Pandas: A library that provides data structures and tools for data manipulation and analysis. We will use this library to load and clean the data.\n",
    "\n",
    "The pre-trained sentiment analysis model used in this notebook is \"cardiffnlp/twitter-roberta-base-sentiment-latest\" from Hugging Face Transformers. This model has been fine-tuned on a large Twitter dataset to perform sentiment analysis on tweets. We will also use a GPU to speed up the computation.\n"
   ]
  },
  {
   "cell_type": "code",
   "execution_count": 150,
   "metadata": {},
   "outputs": [
    {
     "name": "stderr",
     "output_type": "stream",
     "text": [
      "[nltk_data] Downloading package punkt to\n",
      "[nltk_data]     C:\\Users\\carlo\\AppData\\Roaming\\nltk_data...\n",
      "[nltk_data]   Package punkt is already up-to-date!\n",
      "[nltk_data] Downloading package stopwords to\n",
      "[nltk_data]     C:\\Users\\carlo\\AppData\\Roaming\\nltk_data...\n",
      "[nltk_data]   Package stopwords is already up-to-date!\n",
      "[nltk_data] Downloading package wordnet to\n",
      "[nltk_data]     C:\\Users\\carlo\\AppData\\Roaming\\nltk_data...\n",
      "[nltk_data]   Package wordnet is already up-to-date!\n"
     ]
    }
   ],
   "source": [
    "import re\n",
    "import nltk\n",
    "from nltk.corpus import stopwords\n",
    "from nltk.tokenize import word_tokenize\n",
    "from nltk.stem import WordNetLemmatizer\n",
    "\n",
    "# Downloading NLTK resources\n",
    "nltk.download('punkt')\n",
    "nltk.download('stopwords')\n",
    "nltk.download('wordnet')\n",
    "\n",
    "# Creating lemmatizer instance\n",
    "lemmatizer = WordNetLemmatizer()\n",
    "\n",
    "import pandas as pd\n",
    "\n",
    "from transformers import pipeline, AutoTokenizer, AutoModelForSequenceClassification\n",
    "import torch\n",
    "\n",
    "import matplotlib.pyplot as plt\n",
    "import numpy as np"
   ]
  },
  {
   "cell_type": "code",
   "execution_count": 108,
   "metadata": {},
   "outputs": [
    {
     "name": "stderr",
     "output_type": "stream",
     "text": [
      "'lscpu' is not recognized as an internal or external command,\n",
      "operable program or batch file.\n"
     ]
    }
   ],
   "source": [
    "# print my pc specs\n",
    "!lscpu\n"
   ]
  },
  {
   "attachments": {},
   "cell_type": "markdown",
   "metadata": {},
   "source": [
    "## Load Data\n",
    "To demonstrate how to perform sentiment analysis, we will be using a dataset of tweets collected over the past months discussing Tesla's decision to build a new factory in the northern border state of Nuevo Leon in Mexico."
   ]
  },
  {
   "cell_type": "code",
   "execution_count": 109,
   "metadata": {},
   "outputs": [
    {
     "name": "stdout",
     "output_type": "stream",
     "text": [
      "Shape:  (4923, 18)\n"
     ]
    },
    {
     "data": {
      "text/html": [
       "<div>\n",
       "<style scoped>\n",
       "    .dataframe tbody tr th:only-of-type {\n",
       "        vertical-align: middle;\n",
       "    }\n",
       "\n",
       "    .dataframe tbody tr th {\n",
       "        vertical-align: top;\n",
       "    }\n",
       "\n",
       "    .dataframe thead th {\n",
       "        text-align: right;\n",
       "    }\n",
       "</style>\n",
       "<table border=\"1\" class=\"dataframe\">\n",
       "  <thead>\n",
       "    <tr style=\"text-align: right;\">\n",
       "      <th></th>\n",
       "      <th>Category</th>\n",
       "      <th>Keyword</th>\n",
       "      <th>Web_Page_URL</th>\n",
       "      <th>Tweet_Website</th>\n",
       "      <th>Author_Name</th>\n",
       "      <th>Author_Web_Page_URL</th>\n",
       "      <th>Tweet_Timestamp</th>\n",
       "      <th>Tweet_Time</th>\n",
       "      <th>Tweet_Content</th>\n",
       "      <th>Tweet_Image_URL</th>\n",
       "      <th>Tweet_Number_of_Likes</th>\n",
       "      <th>Tweet_Number_of_Retweets</th>\n",
       "      <th>Tweet_Number_of_Reviews</th>\n",
       "      <th>Retweet_or_not</th>\n",
       "      <th>Retweet_Original_Tweet_Content</th>\n",
       "      <th>Retweet_Original_Tweet_Poster</th>\n",
       "      <th>Retweet_Original_Tweet_Time</th>\n",
       "      <th>Retweet_Original_Tweet_PosterID</th>\n",
       "    </tr>\n",
       "  </thead>\n",
       "  <tbody>\n",
       "    <tr>\n",
       "      <th>0</th>\n",
       "      <td>Post</td>\n",
       "      <td>planta tesla lang:es</td>\n",
       "      <td>https://twitter.com/search?q=planta%20tesla%20...</td>\n",
       "      <td>https://twitter.com/karenloa_/status/163134829...</td>\n",
       "      <td>@karenloa_</td>\n",
       "      <td>https://twitter.com/karenloa_</td>\n",
       "      <td>1.677779e+12</td>\n",
       "      <td>2023-03-2 17:38:36</td>\n",
       "      <td>@JoelHDYT\\n tendrá algo q ver la nueva planta ...</td>\n",
       "      <td>NaN</td>\n",
       "      <td>NaN</td>\n",
       "      <td>NaN</td>\n",
       "      <td>NaN</td>\n",
       "      <td>No</td>\n",
       "      <td>NaN</td>\n",
       "      <td>NaN</td>\n",
       "      <td>NaN</td>\n",
       "      <td>NaN</td>\n",
       "    </tr>\n",
       "    <tr>\n",
       "      <th>1</th>\n",
       "      <td>Post</td>\n",
       "      <td>planta tesla lang:es</td>\n",
       "      <td>https://twitter.com/search?q=planta%20tesla%20...</td>\n",
       "      <td>https://twitter.com/MarcosCrossV/status/163134...</td>\n",
       "      <td>@MarcosCrossV</td>\n",
       "      <td>https://twitter.com/MarcosCrossV</td>\n",
       "      <td>1.677779e+12</td>\n",
       "      <td>2023-03-2 17:40:18</td>\n",
       "      <td>La traes bien adentro chango, pero desde que t...</td>\n",
       "      <td>NaN</td>\n",
       "      <td>NaN</td>\n",
       "      <td>NaN</td>\n",
       "      <td>NaN</td>\n",
       "      <td>No</td>\n",
       "      <td>NaN</td>\n",
       "      <td>NaN</td>\n",
       "      <td>NaN</td>\n",
       "      <td>NaN</td>\n",
       "    </tr>\n",
       "  </tbody>\n",
       "</table>\n",
       "</div>"
      ],
      "text/plain": [
       "  Category               Keyword  \\\n",
       "0     Post  planta tesla lang:es   \n",
       "1     Post  planta tesla lang:es   \n",
       "\n",
       "                                        Web_Page_URL  \\\n",
       "0  https://twitter.com/search?q=planta%20tesla%20...   \n",
       "1  https://twitter.com/search?q=planta%20tesla%20...   \n",
       "\n",
       "                                       Tweet_Website    Author_Name  \\\n",
       "0  https://twitter.com/karenloa_/status/163134829...     @karenloa_   \n",
       "1  https://twitter.com/MarcosCrossV/status/163134...  @MarcosCrossV   \n",
       "\n",
       "                Author_Web_Page_URL  Tweet_Timestamp          Tweet_Time  \\\n",
       "0     https://twitter.com/karenloa_     1.677779e+12  2023-03-2 17:38:36   \n",
       "1  https://twitter.com/MarcosCrossV     1.677779e+12  2023-03-2 17:40:18   \n",
       "\n",
       "                                       Tweet_Content Tweet_Image_URL  \\\n",
       "0  @JoelHDYT\\n tendrá algo q ver la nueva planta ...             NaN   \n",
       "1  La traes bien adentro chango, pero desde que t...             NaN   \n",
       "\n",
       "  Tweet_Number_of_Likes Tweet_Number_of_Retweets Tweet_Number_of_Reviews  \\\n",
       "0                   NaN                      NaN                     NaN   \n",
       "1                   NaN                      NaN                     NaN   \n",
       "\n",
       "  Retweet_or_not Retweet_Original_Tweet_Content Retweet_Original_Tweet_Poster  \\\n",
       "0             No                            NaN                           NaN   \n",
       "1             No                            NaN                           NaN   \n",
       "\n",
       "  Retweet_Original_Tweet_Time Retweet_Original_Tweet_PosterID  \n",
       "0                         NaN                             NaN  \n",
       "1                         NaN                             NaN  "
      ]
     },
     "execution_count": 109,
     "metadata": {},
     "output_type": "execute_result"
    }
   ],
   "source": [
    "import pandas as pd\n",
    "\n",
    "# Load data\n",
    "df = pd.read_csv('Tweets_Tesla_in_Mexico.csv')\n",
    "print(\"Shape: \", df.shape)\n",
    "df.head(2)"
   ]
  },
  {
   "attachments": {},
   "cell_type": "markdown",
   "metadata": {},
   "source": [
    "## Data Wrangling\n",
    "Now that we have loaded the data, let's do some data wrangling to prepare it for analysis. In this section, we will perform NLP on the tweet text to extract the nouns, which we will use later for sentiment analysis. We will be using the Natural Language Toolkit (NLTK) library for this task.\n",
    "\n",
    "To begin, we will select only the relevant columns from the dataframe and keep only the rows that are not retweets. We will also preprocess the tweet text by removing stopwords and lemmatizing the tokens. Finally, we will add the extracted nouns as a new column to our dataframe."
   ]
  },
  {
   "cell_type": "code",
   "execution_count": 110,
   "metadata": {},
   "outputs": [],
   "source": [
    "# Select relevant columns from the dataframe\n",
    "# We're only interested in the category, keyword, web page URL, author name, tweet time, tweet content, retweet status, and number of likes\n",
    "# Select relevant columns\n",
    "df = df[['Category', 'Keyword', 'Web_Page_URL', 'Author_Name', 'Tweet_Time', 'Tweet_Content', 'Retweet_or_not', 'Tweet_Number_of_Likes']]\n",
    "# keep only the rows that are not retweets and reset the index\n",
    "df = df[df['Retweet_or_not'] == 'No']\n"
   ]
  },
  {
   "cell_type": "code",
   "execution_count": 111,
   "metadata": {},
   "outputs": [
    {
     "name": "stdout",
     "output_type": "stream",
     "text": [
      "Shape:  (4524, 8)\n"
     ]
    },
    {
     "data": {
      "text/html": [
       "<div>\n",
       "<style scoped>\n",
       "    .dataframe tbody tr th:only-of-type {\n",
       "        vertical-align: middle;\n",
       "    }\n",
       "\n",
       "    .dataframe tbody tr th {\n",
       "        vertical-align: top;\n",
       "    }\n",
       "\n",
       "    .dataframe thead th {\n",
       "        text-align: right;\n",
       "    }\n",
       "</style>\n",
       "<table border=\"1\" class=\"dataframe\">\n",
       "  <thead>\n",
       "    <tr style=\"text-align: right;\">\n",
       "      <th></th>\n",
       "      <th>Category</th>\n",
       "      <th>Keyword</th>\n",
       "      <th>Web_Page_URL</th>\n",
       "      <th>Author_Name</th>\n",
       "      <th>Tweet_Time</th>\n",
       "      <th>Tweet_Content</th>\n",
       "      <th>Retweet_or_not</th>\n",
       "      <th>Tweet_Number_of_Likes</th>\n",
       "    </tr>\n",
       "  </thead>\n",
       "  <tbody>\n",
       "    <tr>\n",
       "      <th>0</th>\n",
       "      <td>Post</td>\n",
       "      <td>planta tesla</td>\n",
       "      <td>https://twitter.com/search?q=planta%20tesla%20...</td>\n",
       "      <td>@karenloa_</td>\n",
       "      <td>2023-03-2 17:38:36</td>\n",
       "      <td>@JoelHDYT\\n tendrá algo q ver la nueva planta ...</td>\n",
       "      <td>No</td>\n",
       "      <td>NaN</td>\n",
       "    </tr>\n",
       "    <tr>\n",
       "      <th>1</th>\n",
       "      <td>Post</td>\n",
       "      <td>planta tesla</td>\n",
       "      <td>https://twitter.com/search?q=planta%20tesla%20...</td>\n",
       "      <td>@MarcosCrossV</td>\n",
       "      <td>2023-03-2 17:40:18</td>\n",
       "      <td>La traes bien adentro chango, pero desde que t...</td>\n",
       "      <td>No</td>\n",
       "      <td>NaN</td>\n",
       "    </tr>\n",
       "  </tbody>\n",
       "</table>\n",
       "</div>"
      ],
      "text/plain": [
       "  Category       Keyword                                       Web_Page_URL  \\\n",
       "0     Post  planta tesla  https://twitter.com/search?q=planta%20tesla%20...   \n",
       "1     Post  planta tesla  https://twitter.com/search?q=planta%20tesla%20...   \n",
       "\n",
       "     Author_Name          Tweet_Time  \\\n",
       "0     @karenloa_  2023-03-2 17:38:36   \n",
       "1  @MarcosCrossV  2023-03-2 17:40:18   \n",
       "\n",
       "                                       Tweet_Content Retweet_or_not  \\\n",
       "0  @JoelHDYT\\n tendrá algo q ver la nueva planta ...             No   \n",
       "1  La traes bien adentro chango, pero desde que t...             No   \n",
       "\n",
       "  Tweet_Number_of_Likes  \n",
       "0                   NaN  \n",
       "1                   NaN  "
      ]
     },
     "execution_count": 111,
     "metadata": {},
     "output_type": "execute_result"
    }
   ],
   "source": [
    "# From col Keyword, remove the substring ' lang:es'\n",
    "df['Keyword'] = df['Keyword'].str.replace(' lang:es','')\n",
    "df['Keyword'] = df['Keyword'].str.replace(' lang:en','')\n",
    "\n",
    "# print the shape of the dataframe\n",
    "print(\"Shape: \", df.shape)\n",
    "df.head(2)"
   ]
  },
  {
   "cell_type": "code",
   "execution_count": 112,
   "metadata": {},
   "outputs": [],
   "source": [
    "# Preprocess text (username and link placeholders)\n",
    "def preprocess(text):\n",
    "    new_text = []\n",
    "    for t in str(text).split(\" \"):\n",
    "        t = '@user' if t.startswith('@') and len(t) > 1 else t\n",
    "        t = 'http' if t.startswith('http') else t\n",
    "        new_text.append(t)\n",
    "    return \" \".join(new_text)\n",
    "\n",
    "# Applying text preprocessing to the tweets\n",
    "df['Tweet_Content'] = df['Tweet_Content'].apply(lambda x: preprocess(x))"
   ]
  },
  {
   "cell_type": "code",
   "execution_count": 113,
   "metadata": {},
   "outputs": [],
   "source": [
    "# \"nd Text preprocessing function\n",
    "def preprocess_text(text):\n",
    "    text = str(text)\n",
    "    # Convert to lowercase\n",
    "    text = text.lower()\n",
    "    \n",
    "    # Remove punctuation\n",
    "    text = re.sub(r'[^\\w\\s]', '', text)\n",
    "    \n",
    "    # Tokenize text\n",
    "    tokens = word_tokenize(text)\n",
    "    \n",
    "    # Remove stop words\n",
    "    tokens = [token for token in tokens if token not in stopwords.words('spanish')]\n",
    "    \n",
    "    # Lemmatize tokens\n",
    "    tokens = [lemmatizer.lemmatize(token) for token in tokens]\n",
    "    \n",
    "    # Join tokens into string\n",
    "    text = ' '.join(tokens)\n",
    "    \n",
    "    return text\n",
    "\n",
    "# Applying text preprocessing to the tweets\n",
    "df['Tweet_Content'] = df['Tweet_Content'].apply(lambda x: preprocess_text(x))"
   ]
  },
  {
   "cell_type": "code",
   "execution_count": 114,
   "metadata": {},
   "outputs": [
    {
     "name": "stdout",
     "output_type": "stream",
     "text": [
      "Shape:  (4524, 8)\n"
     ]
    },
    {
     "data": {
      "text/html": [
       "<div>\n",
       "<style scoped>\n",
       "    .dataframe tbody tr th:only-of-type {\n",
       "        vertical-align: middle;\n",
       "    }\n",
       "\n",
       "    .dataframe tbody tr th {\n",
       "        vertical-align: top;\n",
       "    }\n",
       "\n",
       "    .dataframe thead th {\n",
       "        text-align: right;\n",
       "    }\n",
       "</style>\n",
       "<table border=\"1\" class=\"dataframe\">\n",
       "  <thead>\n",
       "    <tr style=\"text-align: right;\">\n",
       "      <th></th>\n",
       "      <th>Category</th>\n",
       "      <th>Keyword</th>\n",
       "      <th>Web_Page_URL</th>\n",
       "      <th>Author_Name</th>\n",
       "      <th>Tweet_Time</th>\n",
       "      <th>Tweet_Content</th>\n",
       "      <th>Retweet_or_not</th>\n",
       "      <th>Tweet_Number_of_Likes</th>\n",
       "    </tr>\n",
       "  </thead>\n",
       "  <tbody>\n",
       "    <tr>\n",
       "      <th>0</th>\n",
       "      <td>Post</td>\n",
       "      <td>planta tesla</td>\n",
       "      <td>https://twitter.com/search?q=planta%20tesla%20...</td>\n",
       "      <td>@karenloa_</td>\n",
       "      <td>2023-03-2 17:38:36</td>\n",
       "      <td>user q ver nueva planta tesla mexico dice fina...</td>\n",
       "      <td>No</td>\n",
       "      <td>0</td>\n",
       "    </tr>\n",
       "    <tr>\n",
       "      <th>1</th>\n",
       "      <td>Post</td>\n",
       "      <td>planta tesla</td>\n",
       "      <td>https://twitter.com/search?q=planta%20tesla%20...</td>\n",
       "      <td>@MarcosCrossV</td>\n",
       "      <td>2023-03-2 17:40:18</td>\n",
       "      <td>traes bien adentro chango ñero presidente insi...</td>\n",
       "      <td>No</td>\n",
       "      <td>0</td>\n",
       "    </tr>\n",
       "  </tbody>\n",
       "</table>\n",
       "</div>"
      ],
      "text/plain": [
       "  Category       Keyword                                       Web_Page_URL  \\\n",
       "0     Post  planta tesla  https://twitter.com/search?q=planta%20tesla%20...   \n",
       "1     Post  planta tesla  https://twitter.com/search?q=planta%20tesla%20...   \n",
       "\n",
       "     Author_Name          Tweet_Time  \\\n",
       "0     @karenloa_  2023-03-2 17:38:36   \n",
       "1  @MarcosCrossV  2023-03-2 17:40:18   \n",
       "\n",
       "                                       Tweet_Content Retweet_or_not  \\\n",
       "0  user q ver nueva planta tesla mexico dice fina...             No   \n",
       "1  traes bien adentro chango ñero presidente insi...             No   \n",
       "\n",
       "  Tweet_Number_of_Likes  \n",
       "0                     0  \n",
       "1                     0  "
      ]
     },
     "execution_count": 114,
     "metadata": {},
     "output_type": "execute_result"
    }
   ],
   "source": [
    "# replace NaN in Tweet_Number_of_Likes with 0\n",
    "df['Tweet_Number_of_Likes'].fillna(0, inplace=True)\n",
    "\n",
    "# print the shape of the dataframe\n",
    "print(\"Shape: \", df.shape)\n",
    "df.head(2)"
   ]
  },
  {
   "attachments": {},
   "cell_type": "markdown",
   "metadata": {},
   "source": [
    "In the above code, we first import the necessary libraries and load the data from the CSV file. We then select only the relevant columns from the dataframe and keep only the rows that are not retweets. We also remove the substring 'lang:es' from the column 'Keyword'.\n",
    "\n",
    "Next, we define a function for text preprocessing that converts the text to lowercase, removes punctuation, tokenizes the text, removes stop words, lemmatizes the tokens, and joins the tokens back into a string. We then apply this function to the 'Tweet_Content' column.\n",
    "\n",
    "Finally, we replace NaN values in the 'Tweet_Number_of_Likes' column with 0 and print the shape of the dataframe to confirm that our preprocessing steps have not affected the number of rows in the dataframe."
   ]
  },
  {
   "attachments": {},
   "cell_type": "markdown",
   "metadata": {},
   "source": [
    "## Sentiment Analysis (V1)\n",
    "Now that we have preprocessed our tweets, let's perform sentiment analysis on them to gain insights into how people are feeling about Tesla's new factory in Mexico. For this task, we will be using the Hugging Face transformers library and a pre-trained sentiment analysis model based on Twitter data.\n",
    "\n",
    "To begin, we will import the necessary modules and define the path to the pre-trained sentiment analysis model. Then, we will create a function to apply the model to each tweet and add the sentiment scores as new columns to our dataframe.\n",
    "\n",
    "Note that for this version, we will be using CPU-optimized code for efficiency. In the next section, we will show how to use GPU acceleration to speed up the sentiment analysis process."
   ]
  },
  {
   "cell_type": "code",
   "execution_count": 151,
   "metadata": {},
   "outputs": [],
   "source": [
    "# Define the model path\n",
    "model_path = \"cardiffnlp/twitter-xlm-roberta-base-sentiment\"\n",
    "\n",
    "# Load the sentiment analysis model\n",
    "sentiment_task = pipeline(\"sentiment-analysis\", model=model_path, tokenizer=model_path)\n",
    "\n"
   ]
  },
  {
   "cell_type": "code",
   "execution_count": 116,
   "metadata": {},
   "outputs": [],
   "source": [
    "# Define function to apply sentiment analysis to each tweet\n",
    "def analyze_sentiment_v1(text):\n",
    "    result = sentiment_task(text)[0]\n",
    "    return {'sentiment': result['label'], 'score': result['score']}\n",
    "\n",
    "# Apply sentiment analysis to each tweet\n",
    "sentiment_scores = df['Tweet_Content'].apply(analyze_sentiment_v1).apply(pd.Series)\n",
    "\n",
    "# Add sentiment scores as new columns to dataframe\n",
    "df['sentiment_v1'] = sentiment_scores['sentiment']\n",
    "df['sentiment_v1_score'] = sentiment_scores['score']"
   ]
  },
  {
   "attachments": {},
   "cell_type": "markdown",
   "metadata": {},
   "source": [
    "for me took 3m 49.4s"
   ]
  },
  {
   "cell_type": "code",
   "execution_count": 117,
   "metadata": {},
   "outputs": [
    {
     "name": "stdout",
     "output_type": "stream",
     "text": [
      "Shape:  (4524, 10)\n"
     ]
    },
    {
     "data": {
      "text/html": [
       "<div>\n",
       "<style scoped>\n",
       "    .dataframe tbody tr th:only-of-type {\n",
       "        vertical-align: middle;\n",
       "    }\n",
       "\n",
       "    .dataframe tbody tr th {\n",
       "        vertical-align: top;\n",
       "    }\n",
       "\n",
       "    .dataframe thead th {\n",
       "        text-align: right;\n",
       "    }\n",
       "</style>\n",
       "<table border=\"1\" class=\"dataframe\">\n",
       "  <thead>\n",
       "    <tr style=\"text-align: right;\">\n",
       "      <th></th>\n",
       "      <th>Category</th>\n",
       "      <th>Keyword</th>\n",
       "      <th>Web_Page_URL</th>\n",
       "      <th>Author_Name</th>\n",
       "      <th>Tweet_Time</th>\n",
       "      <th>Tweet_Content</th>\n",
       "      <th>Retweet_or_not</th>\n",
       "      <th>Tweet_Number_of_Likes</th>\n",
       "      <th>sentiment_v1</th>\n",
       "      <th>sentiment_v1_score</th>\n",
       "    </tr>\n",
       "  </thead>\n",
       "  <tbody>\n",
       "    <tr>\n",
       "      <th>0</th>\n",
       "      <td>Post</td>\n",
       "      <td>planta tesla</td>\n",
       "      <td>https://twitter.com/search?q=planta%20tesla%20...</td>\n",
       "      <td>@karenloa_</td>\n",
       "      <td>2023-03-2 17:38:36</td>\n",
       "      <td>user q ver nueva planta tesla mexico dice fina...</td>\n",
       "      <td>No</td>\n",
       "      <td>0</td>\n",
       "      <td>neutral</td>\n",
       "      <td>0.913371</td>\n",
       "    </tr>\n",
       "    <tr>\n",
       "      <th>1</th>\n",
       "      <td>Post</td>\n",
       "      <td>planta tesla</td>\n",
       "      <td>https://twitter.com/search?q=planta%20tesla%20...</td>\n",
       "      <td>@MarcosCrossV</td>\n",
       "      <td>2023-03-2 17:40:18</td>\n",
       "      <td>traes bien adentro chango ñero presidente insi...</td>\n",
       "      <td>No</td>\n",
       "      <td>0</td>\n",
       "      <td>negative</td>\n",
       "      <td>0.870576</td>\n",
       "    </tr>\n",
       "  </tbody>\n",
       "</table>\n",
       "</div>"
      ],
      "text/plain": [
       "  Category       Keyword                                       Web_Page_URL  \\\n",
       "0     Post  planta tesla  https://twitter.com/search?q=planta%20tesla%20...   \n",
       "1     Post  planta tesla  https://twitter.com/search?q=planta%20tesla%20...   \n",
       "\n",
       "     Author_Name          Tweet_Time  \\\n",
       "0     @karenloa_  2023-03-2 17:38:36   \n",
       "1  @MarcosCrossV  2023-03-2 17:40:18   \n",
       "\n",
       "                                       Tweet_Content Retweet_or_not  \\\n",
       "0  user q ver nueva planta tesla mexico dice fina...             No   \n",
       "1  traes bien adentro chango ñero presidente insi...             No   \n",
       "\n",
       "  Tweet_Number_of_Likes sentiment_v1  sentiment_v1_score  \n",
       "0                     0      neutral            0.913371  \n",
       "1                     0     negative            0.870576  "
      ]
     },
     "execution_count": 117,
     "metadata": {},
     "output_type": "execute_result"
    }
   ],
   "source": [
    "# print the shape of the dataframe\n",
    "print(\"Shape: \", df.shape)\n",
    "df.head(2)"
   ]
  },
  {
   "attachments": {},
   "cell_type": "markdown",
   "metadata": {},
   "source": [
    "With this code, we can now view the sentiment scores for each tweet in our dataframe."
   ]
  },
  {
   "attachments": {},
   "cell_type": "markdown",
   "metadata": {},
   "source": [
    "## Sentiment Analysis (V2)\n",
    "For this version of sentiment analysis, we will be using the Twitter RoBERTa model and running it on a GPU. This should be faster and more efficient than the CPU version.\n",
    "\n",
    "To begin, we will set up our GPU device and load the model and tokenizer. Then, we will define a function to get the sentiment for a single tweet using the model and tokenizer. Finally, we will apply this function to our dataframe and add the sentiment and sentiment score as new columns."
   ]
  },
  {
   "cell_type": "code",
   "execution_count": 118,
   "metadata": {},
   "outputs": [],
   "source": [
    "# Set up GPU device\n",
    "device = torch.device('cuda' if torch.cuda.is_available() else 'cpu')\n",
    "\n",
    "# Load model and tokenizer\n",
    "model_name = \"cardiffnlp/twitter-roberta-base-sentiment\"\n",
    "tokenizer = AutoTokenizer.from_pretrained(model_name)\n",
    "model = AutoModelForSequenceClassification.from_pretrained(model_name).to(device)\n"
   ]
  },
  {
   "cell_type": "code",
   "execution_count": 119,
   "metadata": {},
   "outputs": [
    {
     "name": "stderr",
     "output_type": "stream",
     "text": [
      "Asking to truncate to max_length but no maximum length is provided and the model has no predefined maximum length. Default to no truncation.\n"
     ]
    }
   ],
   "source": [
    "# Define function to get sentiment for a single tweet\n",
    "def get_sentiment(tweet):\n",
    "    encoding = tokenizer.encode_plus(tweet, return_tensors=\"pt\", padding=True, truncation=True)\n",
    "    input_ids = encoding[\"input_ids\"].to(device)\n",
    "    attention_mask = encoding[\"attention_mask\"].to(device)\n",
    "    with torch.no_grad():\n",
    "        output = model(input_ids, attention_mask)\n",
    "        probabilities = torch.nn.functional.softmax(output.logits, dim=-1)\n",
    "    sentiment = 'positive' if probabilities[0][2] > probabilities[0][0] else 'negative'\n",
    "    # return sentiment and probability of sentiment\n",
    "    return sentiment, probabilities[0][2].item()\n",
    "\n",
    "# Apply function to DataFrame as sentiment_v2 and sentiment_v2_score\n",
    "df['sentiment_v2'], df['sentiment_v2_score'] = zip(*df['Tweet_Content'].apply(get_sentiment))"
   ]
  },
  {
   "attachments": {},
   "cell_type": "markdown",
   "metadata": {},
   "source": [
    "for me took 40s"
   ]
  },
  {
   "cell_type": "code",
   "execution_count": 120,
   "metadata": {},
   "outputs": [
    {
     "name": "stdout",
     "output_type": "stream",
     "text": [
      "Shape:  (4524, 12)\n"
     ]
    },
    {
     "data": {
      "text/html": [
       "<div>\n",
       "<style scoped>\n",
       "    .dataframe tbody tr th:only-of-type {\n",
       "        vertical-align: middle;\n",
       "    }\n",
       "\n",
       "    .dataframe tbody tr th {\n",
       "        vertical-align: top;\n",
       "    }\n",
       "\n",
       "    .dataframe thead th {\n",
       "        text-align: right;\n",
       "    }\n",
       "</style>\n",
       "<table border=\"1\" class=\"dataframe\">\n",
       "  <thead>\n",
       "    <tr style=\"text-align: right;\">\n",
       "      <th></th>\n",
       "      <th>Category</th>\n",
       "      <th>Keyword</th>\n",
       "      <th>Web_Page_URL</th>\n",
       "      <th>Author_Name</th>\n",
       "      <th>Tweet_Time</th>\n",
       "      <th>Tweet_Content</th>\n",
       "      <th>Retweet_or_not</th>\n",
       "      <th>Tweet_Number_of_Likes</th>\n",
       "      <th>sentiment_v1</th>\n",
       "      <th>sentiment_v1_score</th>\n",
       "      <th>sentiment_v2</th>\n",
       "      <th>sentiment_v2_score</th>\n",
       "    </tr>\n",
       "  </thead>\n",
       "  <tbody>\n",
       "    <tr>\n",
       "      <th>0</th>\n",
       "      <td>Post</td>\n",
       "      <td>planta tesla</td>\n",
       "      <td>https://twitter.com/search?q=planta%20tesla%20...</td>\n",
       "      <td>@karenloa_</td>\n",
       "      <td>2023-03-2 17:38:36</td>\n",
       "      <td>user q ver nueva planta tesla mexico dice fina...</td>\n",
       "      <td>No</td>\n",
       "      <td>0</td>\n",
       "      <td>neutral</td>\n",
       "      <td>0.913371</td>\n",
       "      <td>negative</td>\n",
       "      <td>0.046836</td>\n",
       "    </tr>\n",
       "    <tr>\n",
       "      <th>1</th>\n",
       "      <td>Post</td>\n",
       "      <td>planta tesla</td>\n",
       "      <td>https://twitter.com/search?q=planta%20tesla%20...</td>\n",
       "      <td>@MarcosCrossV</td>\n",
       "      <td>2023-03-2 17:40:18</td>\n",
       "      <td>traes bien adentro chango ñero presidente insi...</td>\n",
       "      <td>No</td>\n",
       "      <td>0</td>\n",
       "      <td>negative</td>\n",
       "      <td>0.870576</td>\n",
       "      <td>negative</td>\n",
       "      <td>0.032098</td>\n",
       "    </tr>\n",
       "  </tbody>\n",
       "</table>\n",
       "</div>"
      ],
      "text/plain": [
       "  Category       Keyword                                       Web_Page_URL  \\\n",
       "0     Post  planta tesla  https://twitter.com/search?q=planta%20tesla%20...   \n",
       "1     Post  planta tesla  https://twitter.com/search?q=planta%20tesla%20...   \n",
       "\n",
       "     Author_Name          Tweet_Time  \\\n",
       "0     @karenloa_  2023-03-2 17:38:36   \n",
       "1  @MarcosCrossV  2023-03-2 17:40:18   \n",
       "\n",
       "                                       Tweet_Content Retweet_or_not  \\\n",
       "0  user q ver nueva planta tesla mexico dice fina...             No   \n",
       "1  traes bien adentro chango ñero presidente insi...             No   \n",
       "\n",
       "  Tweet_Number_of_Likes sentiment_v1  sentiment_v1_score sentiment_v2  \\\n",
       "0                     0      neutral            0.913371     negative   \n",
       "1                     0     negative            0.870576     negative   \n",
       "\n",
       "   sentiment_v2_score  \n",
       "0            0.046836  \n",
       "1            0.032098  "
      ]
     },
     "execution_count": 120,
     "metadata": {},
     "output_type": "execute_result"
    }
   ],
   "source": [
    "# print the shape of the dataframe\n",
    "print(\"Shape: \", df.shape)\n",
    "df.head(2)"
   ]
  },
  {
   "attachments": {},
   "cell_type": "markdown",
   "metadata": {},
   "source": [
    "This should add a new column sentiment to your DataFrame with the sentiment (either 'positive' or 'negative') for each tweet. Note that this code assumes that your GPU is an NVIDIA GPU and that you have installed the appropriate CUDA toolkit and cuDNN library."
   ]
  },
  {
   "attachments": {},
   "cell_type": "markdown",
   "metadata": {},
   "source": [
    "## Get Nouns\n",
    "Helper methods are essentially small functions or procedures that serve to perform specific, repetitive tasks that support the main function or algorithm.\n",
    "\n",
    "One such method is get_nouns(), which leverages the Natural Language Toolkit (nltk) to extract all the nouns and proper nouns from a given text while eliminating emojis, lemmatizing the nouns, removing stop words, and removing any NaN values that may be present.\n",
    "\n",
    "Another helper method, create_noun_dataframe(), takes a dataframe and employs the get_nouns() function to extract nouns from the Tweet_Content column of each tweet, producing a new dataframe that includes the extracted nouns.\n",
    "\n",
    "By utilizing these helper methods, we can streamline our workflow, enhance efficiency, and gain greater control over our data pre-processing and analysis. Additionally, they can aid in code comprehension, debugging, and maintenance by encapsulating complex functionality or functionality that is employed in multiple parts of the codebase into a reusable and easily understandable block of code."
   ]
  },
  {
   "cell_type": "code",
   "execution_count": 121,
   "metadata": {},
   "outputs": [],
   "source": [
    "#Helper Methods\n",
    "stop_words = set(stopwords.words('spanish'))\n",
    "# get nouns and proper nouns from the tweet using nltk\n",
    "def get_nouns(text):\n",
    "    nouns = []\n",
    "    for word, pos in nltk.pos_tag(nltk.word_tokenize(text)):\n",
    "        if (pos == 'NN' or pos == 'NNP' or pos == 'NNS' or pos == 'NNPS'):\n",
    "            nouns.append(word)\n",
    "    #remove emojis\n",
    "    nouns = [re.sub(r'[^\\w\\s]', '', x) for x in nouns]\n",
    "    # lemmatize the nouns\n",
    "    lemmatizer = WordNetLemmatizer()\n",
    "    nouns = [lemmatizer.lemmatize(word) for word in nouns]\n",
    "    # remove stop words from stop\n",
    "    nouns = [word for word in nouns if word not in stop_words]\n",
    "    #remove NaN\n",
    "    nouns = [x for x in nouns if str(x).lower() != '']\n",
    "    return nouns\n",
    "\n",
    "    \n",
    "# create nounn df using the helper method\n",
    "def create_noun_dataframe(df,col):\n",
    "    nouns = df[col].apply(lambda text: get_nouns(str(text)))\n",
    "    noun_df = pd.DataFrame(nouns)\n",
    "    noun_df.rename(inplace=True, columns={col:'Nouns'})\n",
    "    return noun_df"
   ]
  },
  {
   "cell_type": "code",
   "execution_count": 122,
   "metadata": {},
   "outputs": [
    {
     "data": {
      "text/html": [
       "<div>\n",
       "<style scoped>\n",
       "    .dataframe tbody tr th:only-of-type {\n",
       "        vertical-align: middle;\n",
       "    }\n",
       "\n",
       "    .dataframe tbody tr th {\n",
       "        vertical-align: top;\n",
       "    }\n",
       "\n",
       "    .dataframe thead th {\n",
       "        text-align: right;\n",
       "    }\n",
       "</style>\n",
       "<table border=\"1\" class=\"dataframe\">\n",
       "  <thead>\n",
       "    <tr style=\"text-align: right;\">\n",
       "      <th></th>\n",
       "      <th>Category</th>\n",
       "      <th>Keyword</th>\n",
       "      <th>Web_Page_URL</th>\n",
       "      <th>Author_Name</th>\n",
       "      <th>Tweet_Time</th>\n",
       "      <th>Tweet_Content</th>\n",
       "      <th>Retweet_or_not</th>\n",
       "      <th>Tweet_Number_of_Likes</th>\n",
       "      <th>sentiment_v1</th>\n",
       "      <th>sentiment_v1_score</th>\n",
       "      <th>sentiment_v2</th>\n",
       "      <th>sentiment_v2_score</th>\n",
       "      <th>Nouns</th>\n",
       "    </tr>\n",
       "  </thead>\n",
       "  <tbody>\n",
       "    <tr>\n",
       "      <th>0</th>\n",
       "      <td>Post</td>\n",
       "      <td>planta tesla</td>\n",
       "      <td>https://twitter.com/search?q=planta%20tesla%20...</td>\n",
       "      <td>@karenloa_</td>\n",
       "      <td>2023-03-2 17:38:36</td>\n",
       "      <td>user q ver nueva planta tesla mexico dice fina...</td>\n",
       "      <td>No</td>\n",
       "      <td>0</td>\n",
       "      <td>neutral</td>\n",
       "      <td>0.913371</td>\n",
       "      <td>negative</td>\n",
       "      <td>0.046836</td>\n",
       "      <td>[user, q, ver, tesla, mexico, dice, finanzas]</td>\n",
       "    </tr>\n",
       "    <tr>\n",
       "      <th>1</th>\n",
       "      <td>Post</td>\n",
       "      <td>planta tesla</td>\n",
       "      <td>https://twitter.com/search?q=planta%20tesla%20...</td>\n",
       "      <td>@MarcosCrossV</td>\n",
       "      <td>2023-03-2 17:40:18</td>\n",
       "      <td>traes bien adentro chango ñero presidente insi...</td>\n",
       "      <td>No</td>\n",
       "      <td>0</td>\n",
       "      <td>negative</td>\n",
       "      <td>0.870576</td>\n",
       "      <td>negative</td>\n",
       "      <td>0.032098</td>\n",
       "      <td>[bien, adentro, chango, ñero, presidente, insi...</td>\n",
       "    </tr>\n",
       "  </tbody>\n",
       "</table>\n",
       "</div>"
      ],
      "text/plain": [
       "  Category       Keyword                                       Web_Page_URL  \\\n",
       "0     Post  planta tesla  https://twitter.com/search?q=planta%20tesla%20...   \n",
       "1     Post  planta tesla  https://twitter.com/search?q=planta%20tesla%20...   \n",
       "\n",
       "     Author_Name          Tweet_Time  \\\n",
       "0     @karenloa_  2023-03-2 17:38:36   \n",
       "1  @MarcosCrossV  2023-03-2 17:40:18   \n",
       "\n",
       "                                       Tweet_Content Retweet_or_not  \\\n",
       "0  user q ver nueva planta tesla mexico dice fina...             No   \n",
       "1  traes bien adentro chango ñero presidente insi...             No   \n",
       "\n",
       "  Tweet_Number_of_Likes sentiment_v1  sentiment_v1_score sentiment_v2  \\\n",
       "0                     0      neutral            0.913371     negative   \n",
       "1                     0     negative            0.870576     negative   \n",
       "\n",
       "   sentiment_v2_score                                              Nouns  \n",
       "0            0.046836      [user, q, ver, tesla, mexico, dice, finanzas]  \n",
       "1            0.032098  [bien, adentro, chango, ñero, presidente, insi...  "
      ]
     },
     "execution_count": 122,
     "metadata": {},
     "output_type": "execute_result"
    }
   ],
   "source": [
    "# apply the method to our df\n",
    "noun_df = create_noun_dataframe(df,'Tweet_Content')\n",
    "noun_df = df.merge(noun_df, how='left', left_index=True, right_index=True)\n",
    "# explode Nouns in a new df\n",
    "exp_nouns_all = noun_df.explode('Nouns')\n",
    "\n",
    "noun_df.head(2)\n"
   ]
  },
  {
   "cell_type": "code",
   "execution_count": 123,
   "metadata": {},
   "outputs": [
    {
     "data": {
      "image/png": "[encoded data removed]",
      "text/plain": [
       "<Figure size 360x360 with 1 Axes>"
      ]
     },
     "metadata": {},
     "output_type": "display_data"
    }
   ],
   "source": [
    "# Import libraries\n",
    "import matplotlib.pyplot as plt\n",
    "\n",
    "# Group tweets by sentiment_v1 and count the number of tweets in each category\n",
    "sentiment_counts = df.groupby('sentiment_v1').count()['Tweet_Content']\n",
    "\n",
    "# Create a pie chart\n",
    "plt.figure(figsize=(5,5))\n",
    "plt.pie(sentiment_counts, labels=sentiment_counts.index, autopct='%1.1f%%')\n",
    "plt.title('Sentiment Distribution (V1)')\n",
    "plt.show()\n"
   ]
  },
  {
   "cell_type": "code",
   "execution_count": 124,
   "metadata": {},
   "outputs": [
    {
     "data": {
      "text/plain": [
       "tesla      2822\n",
       "musk       2151\n",
       "elon       1601\n",
       "méxico     1270\n",
       "león       1116\n",
       "           ... \n",
       "pendejo      62\n",
       "trabajo      61\n",
       "luego        61\n",
       "menos        61\n",
       "acto         60\n",
       "Name: Nouns, Length: 100, dtype: int64"
      ]
     },
     "execution_count": 124,
     "metadata": {},
     "output_type": "execute_result"
    }
   ],
   "source": [
    "# List top 30 most frequent nouns in exp_nouns_all\n",
    "top_30_nouns = exp_nouns_all['Nouns'].value_counts().head(100)\n",
    "top_30_nouns"
   ]
  },
  {
   "attachments": {},
   "cell_type": "markdown",
   "metadata": {},
   "source": [
    "In this section, we manually group the extracted nouns into categories that represent the key players in the event that we decided to analyze. We define a dictionary of groups where each key represents a player and its corresponding value is a list of nouns associated with that player. We then map each extracted noun to its corresponding group and remove any nouns that do not belong to any group. We then aggregate the nouns by group and count their frequency. Finally, we create a bar chart that shows the frequency of each group."
   ]
  },
  {
   "cell_type": "code",
   "execution_count": 125,
   "metadata": {},
   "outputs": [
    {
     "data": {
      "text/html": [
       "<div>\n",
       "<style scoped>\n",
       "    .dataframe tbody tr th:only-of-type {\n",
       "        vertical-align: middle;\n",
       "    }\n",
       "\n",
       "    .dataframe tbody tr th {\n",
       "        vertical-align: top;\n",
       "    }\n",
       "\n",
       "    .dataframe thead th {\n",
       "        text-align: right;\n",
       "    }\n",
       "</style>\n",
       "<table border=\"1\" class=\"dataframe\">\n",
       "  <thead>\n",
       "    <tr style=\"text-align: right;\">\n",
       "      <th></th>\n",
       "      <th>Group</th>\n",
       "      <th>Nouns</th>\n",
       "      <th>Freq</th>\n",
       "    </tr>\n",
       "  </thead>\n",
       "  <tbody>\n",
       "    <tr>\n",
       "      <th>1</th>\n",
       "      <td>AMLO</td>\n",
       "      <td>méxico</td>\n",
       "      <td>1270</td>\n",
       "    </tr>\n",
       "    <tr>\n",
       "      <th>2</th>\n",
       "      <td>AMLO</td>\n",
       "      <td>obrador</td>\n",
       "      <td>932</td>\n",
       "    </tr>\n",
       "  </tbody>\n",
       "</table>\n",
       "</div>"
      ],
      "text/plain": [
       "  Group    Nouns  Freq\n",
       "1  AMLO   méxico  1270\n",
       "2  AMLO  obrador   932"
      ]
     },
     "execution_count": 125,
     "metadata": {},
     "output_type": "execute_result"
    }
   ],
   "source": [
    "# define the dictionary of groups\n",
    "group_dict = {\n",
    "    'Elon Musk': ['tesla', 'musk', 'elon', 'gigafactory', 'dueño', 'eléctricos', 'empresario', 'vehículos', 'texas'],\n",
    "    'Andres Manuel Lopez Obrador (AMLO)': ['méxico', 'obrador', 'presidente', 'lopezobrador_', 'pendejo'],\n",
    "    'Samuel García Sepúlveda': ['león', 'nuevo', 'inversión', 'gobernador', 'samuel', 'garcía', 'samuel_garcias', 'nl', 'catrina', 'trabajo', 'acto'],\n",
    "    'Tesla': ['planta', 'litio', 'fábrica', 'fabrica', 'baterías', 'instalación', 'instalara', 'auto'],\n",
    "    'Mexico': ['país', 'mexicano', 'sonora', 'invertir', 'anuncia', 'nueva'],\n",
    "    'Miscellaneous': ['si', 'http', 'gracias', 'así', 'va', 'dijo', 'hace', 'user', 'cómo', 'bien', 'plan', 'ser', 'dice', 'poner', 'mil', 'logro', 'pues', 'hoy', 'empresa', 'aquí', 'ver', 'acuerdo', 'q', 'foto', 'viene', 'tras', 'vía', 'gran', 'llegada', 'millones', 'quería', 'video', 'después', 'futuro', 'siempre', 'ma', 'van', 'ahí', 'conocer', 'anuncio', 'luego', 'menos']\n",
    "}\n",
    "\n",
    "# map each noun to its corresponding group\n",
    "grouped_nouns = exp_nouns_all.copy()\n",
    "grouped_nouns['Group'] = grouped_nouns['Nouns'].map(lambda x: next((k for k, v in group_dict.items() if x in v), None))\n",
    "\n",
    "# remove any nouns that don't belong to any group\n",
    "grouped_nouns.dropna(subset=['Group'], inplace=True)\n",
    "\n",
    "# aggregate the nouns by group and count their frequency\n",
    "grouped_nouns = grouped_nouns.groupby(['Group', 'Nouns']).size().reset_index(name='Freq')\n",
    "\n",
    "# sort by group and frequency\n",
    "grouped_nouns = grouped_nouns.sort_values(['Group', 'Freq'], ascending=[True, False])\n",
    "# rename \"Andres Manuel Lopez Obrador (AMLO)\" to \"AMLO\"\n",
    "grouped_nouns['Group'] = grouped_nouns['Group'].replace('Andres Manuel Lopez Obrador (AMLO)', 'AMLO')\n",
    "grouped_nouns['Group'] = grouped_nouns['Group'].replace('Samuel García Sepúlveda', 'Samuel Garcia')\n",
    "\n",
    "grouped_nouns.head(2)"
   ]
  },
  {
   "cell_type": "code",
   "execution_count": 126,
   "metadata": {},
   "outputs": [
    {
     "data": {
      "image/png": "[encoded data removed]",
      "text/plain": [
       "<Figure size 432x288 with 1 Axes>"
      ]
     },
     "metadata": {
      "needs_background": "light"
     },
     "output_type": "display_data"
    }
   ],
   "source": [
    "group_freq = grouped_nouns.groupby('Group')['Freq'].sum().reset_index()\n",
    "\n",
    "# Create a list of colors for each group\n",
    "num_groups = len(group_freq)\n",
    "colors = plt.cm.Set1(np.linspace(0, 1, num_groups))\n",
    "\n",
    "# Create the bar chart with different colors for each group\n",
    "plt.bar(group_freq['Group'], group_freq['Freq'], color=colors)\n",
    "plt.xticks(rotation=90)\n",
    "plt.xlabel('Groups')\n",
    "plt.ylabel('Frequency')\n",
    "plt.title('Frequency of Groups')\n",
    "plt.show()\n"
   ]
  },
  {
   "attachments": {},
   "cell_type": "markdown",
   "metadata": {},
   "source": [
    "Now that we have grouped the key players into specific categories, let's map the extracted nouns to their corresponding classes. We define a dictionary of nouns and their respective classes, and then use a function to map each noun to its corresponding class."
   ]
  },
  {
   "cell_type": "code",
   "execution_count": 147,
   "metadata": {},
   "outputs": [
    {
     "name": "stderr",
     "output_type": "stream",
     "text": [
      "C:\\Users\\carlo\\AppData\\Local\\Temp\\ipykernel_8872\\2267897601.py:2: FutureWarning: The default value of regex will change from True to False in a future version.\n",
      "  exp_nouns_all['Nouns'] = exp_nouns_all['Nouns'].str.replace('[^\\w\\s]','')\n"
     ]
    }
   ],
   "source": [
    "# Remove punctuation\n",
    "exp_nouns_all['Nouns'] = exp_nouns_all['Nouns'].str.replace('[^\\w\\s]','')\n",
    "exp_nouns_all['Nouns'] = exp_nouns_all['Nouns'].str.replace('á','a')\n",
    "exp_nouns_all['Nouns'] = exp_nouns_all['Nouns'].str.replace('é','e')\n",
    "exp_nouns_all['Nouns'] = exp_nouns_all['Nouns'].str.replace('í','i')\n",
    "exp_nouns_all['Nouns'] = exp_nouns_all['Nouns'].str.replace('ó','o')\n",
    "exp_nouns_all['Nouns'] = exp_nouns_all['Nouns'].str.replace('ú','u')\n",
    "\n",
    "\n",
    "# Define the dictionary of nouns and classes\n",
    "noun_class_dict = {\n",
    "    'Elon Musk': ['tesla', 'musk', 'elon', 'gigafactory', 'dueño', 'eléctricos', 'empresario', 'vehículos'],\n",
    "    'AMLO': ['méxico', 'obrador', 'presidente', 'lopezobrador_', 'pendejo','amlo','ándres','andrés'],\n",
    "    'Samuel García Sepúlveda': ['león', 'nuevo', 'inversión', 'gobernador', 'samuel', 'garcía', 'samuel_garcias', 'nl', 'catrina', 'trabajo', 'acto'],\n",
    "    'Miscellaneous': ['si', 'http', 'gracias', 'así', 'va', 'dijo', 'hace', 'user', 'cómo', 'bien', 'plan', 'ser', 'dice', 'poner', 'mil', 'logro', 'pues', 'hoy', 'empresa', 'aquí', 'ver', 'acuerdo', 'q', 'foto', 'viene', 'tras', 'vía', 'gran', 'llegada', 'millones', 'quería', 'video', 'después', 'futuro', 'siempre', 'ma', 'van', 'ahí', 'conocer', 'anuncio', 'luego', 'menos']\n",
    "\n",
    "}\n",
    "\n",
    "# Define a function to map nouns to classes\n",
    "def map_noun_to_class(noun):\n",
    "    for class_name, nouns in noun_class_dict.items():\n",
    "        if noun in nouns:\n",
    "            return class_name\n",
    "    return noun\n",
    "\n",
    "# Apply the function to the Nouns column of the exp_nouns_all DataFrame\n",
    "exp_nouns_all['Nouns'] = exp_nouns_all['Nouns'].apply(map_noun_to_class)\n",
    "\n",
    "# Remove Miscellaneous nouns\n",
    "exp_nouns_all = exp_nouns_all[exp_nouns_all['Nouns'] != 'Miscellaneous']\n",
    "\n"
   ]
  },
  {
   "attachments": {},
   "cell_type": "markdown",
   "metadata": {},
   "source": [
    "We define a function map_noun_to_class that takes a noun as input and returns its class name if it is found in the dictionary, or the noun itself otherwise. We then apply this function to the Nouns column of our exp_nouns_all DataFrame using the apply method.\n",
    "Finally, we remove the Miscellaneous class from our DataFrame, which contains nouns that do not belong to any of our predefined classes.\n",
    "\n",
    "\n",
    "After filtering the DataFrame to include only nouns with a frequency of more than 150, we created a pivot table using the pivot_table() function from the pandas library. This pivot table has the sentiment_v1 column as the x-axis, the Nouns column as the y-axis, and the frequency as the values. We then plotted a heatmap of the pivot table using the heatmap() function from the seaborn library. The heatmap uses a red color map, displays the numerical values for each cell using the annot=True parameter, and formats the values as a plain number using the fmt='g' parameter.\n",
    "\n"
   ]
  },
  {
   "cell_type": "code",
   "execution_count": 149,
   "metadata": {},
   "outputs": [
    {
     "data": {
      "text/plain": [
       "<AxesSubplot:xlabel='sentiment_v1', ylabel='Nouns'>"
      ]
     },
     "execution_count": 149,
     "metadata": {},
     "output_type": "execute_result"
    },
    {
     "data": {
      "image/png": "[encoded data removed]",
      "text/plain": [
       "<Figure size 432x288 with 2 Axes>"
      ]
     },
     "metadata": {
      "needs_background": "light"
     },
     "output_type": "display_data"
    }
   ],
   "source": [
    "import pandas as pd\n",
    "import seaborn as sns\n",
    "\n",
    "# Filter dataframe to only include nouns with frequency > 150\n",
    "exp_nouns_all_filtered = exp_nouns_all[exp_nouns_all['Nouns'].isin(exp_nouns_all['Nouns'].value_counts()[exp_nouns_all['Nouns'].value_counts() > 150].index)]\n",
    "\n",
    "# Create pivot table with sentiment_v1 as x-axis, Nouns as y-axis, and frequency as values\n",
    "pivot_table = exp_nouns_all_filtered.pivot_table(index='Nouns', columns='sentiment_v1', values='Web_Page_URL', aggfunc='count')\n",
    "\n",
    "# Plot heatmap\n",
    "sns.heatmap(pivot_table, cmap='Reds', annot=True, fmt='g')\n"
   ]
  },
  {
   "attachments": {},
   "cell_type": "markdown",
   "metadata": {},
   "source": [
    "---\n",
    "## Conclusion\n",
    "In this notebook, we explored the exciting world of sentiment analysis using natural language processing (NLP) and AI techniques. We used the Hugging Face library and the pre-trained CardiffNLP Twitter-Roberta-Base-Sentiment-Latest model to analyze a dataset of tweets.\n",
    "\n",
    "We showcased the benefits of using GPU for sentiment analysis tasks, which helped us process large datasets faster and improve the overall performance of our model. In particular, we were able to perform sentiment analysis on our dataset in just 40 seconds using GPU, compared to 3 minutes and 49.4 seconds using CPU.\n",
    "\n",
    "We also discussed some general concepts about sentiment analysis, including what it is, why it's important, and how it works. Moreover, we showed how sentiment analysis could be used to analyze social media data to gain insights into public opinion.\n",
    "\n",
    "As an example, we analyzed tweets related to Tesla's new factory announcement in Nuevo Leon, which is worth more than $5 billion and is said to be the \"biggest electric vehicle plant in the world.\"\n",
    "\n",
    "Overall, sentiment analysis is a powerful tool that can help us understand public opinion and gain insights into social media data. By using GPU, we can process large datasets faster and improve the performance of our models.\n"
   ]
  }
 ],
 "metadata": {
  "kernelspec": {
   "display_name": "ML-env",
   "language": "python",
   "name": "python3"
  },
  "language_info": {
   "codemirror_mode": {
    "name": "ipython",
    "version": 3
   },
   "file_extension": ".py",
   "mimetype": "text/x-python",
   "name": "python",
   "nbconvert_exporter": "python",
   "pygments_lexer": "ipython3",
   "version": "3.8.13"
  },
  "orig_nbformat": 4
 },
 "nbformat": 4,
 "nbformat_minor": 2
}
